{
 "metadata": {
  "language_info": {
   "codemirror_mode": {
    "name": "ipython",
    "version": 3
   },
   "file_extension": ".py",
   "mimetype": "text/x-python",
   "name": "python",
   "nbconvert_exporter": "python",
   "pygments_lexer": "ipython3",
   "version": "3.7.6"
  },
  "orig_nbformat": 2,
  "kernelspec": {
   "name": "python37664bit1247a51cb9f140ac8e5f75882572c465",
   "display_name": "Python 3.7.6 64-bit"
  },
  "metadata": {
   "interpreter": {
    "hash": "2bd04dc09fab68ca3ef149792dfe3505936e6301cdd003bc123cc71dc1164e1a"
   }
  }
 },
 "nbformat": 4,
 "nbformat_minor": 2,
 "cells": [
  {
   "cell_type": "code",
   "execution_count": 1,
   "metadata": {},
   "outputs": [],
   "source": [
    "import pandas as pd\n",
    "import numpy as np"
   ]
  },
  {
   "cell_type": "code",
   "execution_count": 2,
   "metadata": {},
   "outputs": [],
   "source": [
    "dict1 ={\n",
    "    \"name\":[\"harry\",\"rohan\",\"shubh\"],\n",
    "    \"marks\":[98,76,88],\n",
    "    \"city\":[\"Siliguri\",\"kolkata\",\"chennai\"]\n",
    "}"
   ]
  },
  {
   "cell_type": "code",
   "execution_count": 3,
   "metadata": {},
   "outputs": [],
   "source": [
    "df= pd.DataFrame(dict1)"
   ]
  },
  {
   "cell_type": "code",
   "execution_count": 4,
   "metadata": {},
   "outputs": [
    {
     "output_type": "execute_result",
     "data": {
      "text/plain": [
       "    name  marks      city\n",
       "0  harry     98  Siliguri\n",
       "1  rohan     76   kolkata\n",
       "2  shubh     88   chennai"
      ],
      "text/html": "<div>\n<style scoped>\n    .dataframe tbody tr th:only-of-type {\n        vertical-align: middle;\n    }\n\n    .dataframe tbody tr th {\n        vertical-align: top;\n    }\n\n    .dataframe thead th {\n        text-align: right;\n    }\n</style>\n<table border=\"1\" class=\"dataframe\">\n  <thead>\n    <tr style=\"text-align: right;\">\n      <th></th>\n      <th>name</th>\n      <th>marks</th>\n      <th>city</th>\n    </tr>\n  </thead>\n  <tbody>\n    <tr>\n      <th>0</th>\n      <td>harry</td>\n      <td>98</td>\n      <td>Siliguri</td>\n    </tr>\n    <tr>\n      <th>1</th>\n      <td>rohan</td>\n      <td>76</td>\n      <td>kolkata</td>\n    </tr>\n    <tr>\n      <th>2</th>\n      <td>shubh</td>\n      <td>88</td>\n      <td>chennai</td>\n    </tr>\n  </tbody>\n</table>\n</div>"
     },
     "metadata": {},
     "execution_count": 4
    }
   ],
   "source": [
    "df"
   ]
  },
  {
   "cell_type": "code",
   "execution_count": 5,
   "metadata": {},
   "outputs": [],
   "source": [
    "n = pd.read_csv(\"carsample.csv\")"
   ]
  },
  {
   "cell_type": "code",
   "execution_count": 6,
   "metadata": {},
   "outputs": [
    {
     "output_type": "execute_result",
     "data": {
      "text/plain": [
       "         CAR    PRICE        BRAND\n",
       "0  aventedor  1.2 mil  lamborghini\n",
       "1      ghost    5 mil  rolls-royce\n",
       "2      supra     900k       toyota"
      ],
      "text/html": "<div>\n<style scoped>\n    .dataframe tbody tr th:only-of-type {\n        vertical-align: middle;\n    }\n\n    .dataframe tbody tr th {\n        vertical-align: top;\n    }\n\n    .dataframe thead th {\n        text-align: right;\n    }\n</style>\n<table border=\"1\" class=\"dataframe\">\n  <thead>\n    <tr style=\"text-align: right;\">\n      <th></th>\n      <th>CAR</th>\n      <th>PRICE</th>\n      <th>BRAND</th>\n    </tr>\n  </thead>\n  <tbody>\n    <tr>\n      <th>0</th>\n      <td>aventedor</td>\n      <td>1.2 mil</td>\n      <td>lamborghini</td>\n    </tr>\n    <tr>\n      <th>1</th>\n      <td>ghost</td>\n      <td>5 mil</td>\n      <td>rolls-royce</td>\n    </tr>\n    <tr>\n      <th>2</th>\n      <td>supra</td>\n      <td>900k</td>\n      <td>toyota</td>\n    </tr>\n  </tbody>\n</table>\n</div>"
     },
     "metadata": {},
     "execution_count": 6
    }
   ],
   "source": [
    "n"
   ]
  },
  {
   "cell_type": "code",
   "execution_count": 7,
   "metadata": {},
   "outputs": [
    {
     "output_type": "execute_result",
     "data": {
      "text/plain": [
       "0    1.2 mil\n",
       "1      5 mil\n",
       "2       900k\n",
       "Name: PRICE, dtype: object"
      ]
     },
     "metadata": {},
     "execution_count": 7
    }
   ],
   "source": [
    "n[\"PRICE\"]"
   ]
  },
  {
   "cell_type": "code",
   "execution_count": 8,
   "metadata": {},
   "outputs": [],
   "source": [
    "n[\"PRICE\"][0]=\"1.5 mil\""
   ]
  },
  {
   "cell_type": "code",
   "execution_count": 9,
   "metadata": {},
   "outputs": [],
   "source": [
    "n.index = ['first',\"second\",\"third\"]"
   ]
  },
  {
   "cell_type": "code",
   "execution_count": 10,
   "metadata": {},
   "outputs": [
    {
     "output_type": "execute_result",
     "data": {
      "text/plain": [
       "              CAR    PRICE        BRAND\n",
       "first   aventedor  1.5 mil  lamborghini\n",
       "second      ghost    5 mil  rolls-royce\n",
       "third       supra     900k       toyota"
      ],
      "text/html": "<div>\n<style scoped>\n    .dataframe tbody tr th:only-of-type {\n        vertical-align: middle;\n    }\n\n    .dataframe tbody tr th {\n        vertical-align: top;\n    }\n\n    .dataframe thead th {\n        text-align: right;\n    }\n</style>\n<table border=\"1\" class=\"dataframe\">\n  <thead>\n    <tr style=\"text-align: right;\">\n      <th></th>\n      <th>CAR</th>\n      <th>PRICE</th>\n      <th>BRAND</th>\n    </tr>\n  </thead>\n  <tbody>\n    <tr>\n      <th>first</th>\n      <td>aventedor</td>\n      <td>1.5 mil</td>\n      <td>lamborghini</td>\n    </tr>\n    <tr>\n      <th>second</th>\n      <td>ghost</td>\n      <td>5 mil</td>\n      <td>rolls-royce</td>\n    </tr>\n    <tr>\n      <th>third</th>\n      <td>supra</td>\n      <td>900k</td>\n      <td>toyota</td>\n    </tr>\n  </tbody>\n</table>\n</div>"
     },
     "metadata": {},
     "execution_count": 10
    }
   ],
   "source": [
    "n"
   ]
  },
  {
   "cell_type": "code",
   "execution_count": 11,
   "metadata": {},
   "outputs": [
    {
     "output_type": "stream",
     "name": "stdout",
     "text": [
      "CAR      object\nPRICE    object\nBRAND    object\ndtype: object\n"
     ]
    }
   ],
   "source": [
    "print(n.dtypes)"
   ]
  },
  {
   "cell_type": "code",
   "execution_count": 12,
   "metadata": {},
   "outputs": [
    {
     "output_type": "stream",
     "name": "stdout",
     "text": [
      "<class 'pandas.core.frame.DataFrame'>\nIndex: 3 entries, first to third\nData columns (total 3 columns):\n #   Column  Non-Null Count  Dtype \n---  ------  --------------  ----- \n 0   CAR     3 non-null      object\n 1   PRICE   3 non-null      object\n 2   BRAND   3 non-null      object\ndtypes: object(3)\nmemory usage: 96.0+ bytes\n"
     ]
    }
   ],
   "source": [
    "n.info()"
   ]
  },
  {
   "cell_type": "code",
   "execution_count": null,
   "metadata": {},
   "outputs": [],
   "source": []
  }
 ]
}